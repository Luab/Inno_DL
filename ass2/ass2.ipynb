{
 "cells": [
  {
   "cell_type": "code",
   "execution_count": 101,
   "metadata": {},
   "outputs": [],
   "source": [
    "from keras.layers import Dense, Dropout, BatchNormalization,ELU,Flatten,Conv2D\n",
    "import keras.datasets as data\n",
    "from keras.models import Sequential, Model\n",
    "from keras.utils import to_categorical\n",
    "import keras.backend as K\n",
    "from sklearn.model_selection import GridSearchCV\n",
    "from keras.wrappers.scikit_learn import KerasClassifier\n",
    "import os\n",
    "\n",
    "\n",
    "import numpy as np"
   ]
  },
  {
   "cell_type": "code",
   "execution_count": 88,
   "metadata": {},
   "outputs": [],
   "source": [
    "import tensorflow as tf\n",
    "from keras.backend.tensorflow_backend import set_session\n",
    "config = tf.ConfigProto()\n",
    "config.gpu_options.per_process_gpu_memory_fraction = 0.1\n",
    "set_session(tf.Session(config=config))\n",
    "import matplotlib.pyplot as plt\n",
    "def plot_history(history):\n",
    "    loss_values = history.history['loss']\n",
    "    epochs = range(1, len(loss_values)+1)\n",
    "    loss_accuracy = history.history['acc']\n",
    "\n",
    "    plt.plot(epochs, loss_values, label='Training Loss')\n",
    "    plt.xlabel('Epochs')\n",
    "    plt.ylabel('Loss')\n",
    "    plt.legend()\n",
    "    \n",
    "    plt.show()\n",
    "\n",
    "    plt.plot(epochs, loss_accuracy, label='Training Accuracy')\n",
    "    plt.xlabel('Epochs')\n",
    "    plt.ylabel('Accuracy')\n",
    "    plt.legend()\n"
   ]
  },
  {
   "cell_type": "code",
   "execution_count": 153,
   "metadata": {},
   "outputs": [],
   "source": [
    "train,test = data.mnist.load_data()"
   ]
  },
  {
   "cell_type": "code",
   "execution_count": 161,
   "metadata": {},
   "outputs": [],
   "source": [
    "x_train,y_train = train\n",
    "x_test,y_test = test\n",
    "\n",
    "train_mask = np.isin(y_train, [0, 4])\n",
    "test_mask = np.isin(y_test, [0, 4])\n",
    "\n",
    "x_train = x_train[train_mask]\n",
    "x_test = x_test[test_mask]\n",
    "y_test = y_test[test_mask]\n",
    "y_train = y_train[train_mask]\n",
    "\n",
    "y_train = to_categorical(y_train)\n",
    "x_train = x_train.reshape(-1,1,28,28)\n",
    "y_test = to_categorical(y_test)\n",
    "x_test = x_test.reshape(-1,1,28,28)\n",
    "\n",
    "x_train = x_train.astype('float32')\n",
    "x_test = x_test.astype('float32')\n",
    "x_train /= 255\n",
    "x_test /= 255"
   ]
  },
  {
   "cell_type": "code",
   "execution_count": 217,
   "metadata": {},
   "outputs": [],
   "source": [
    "def create_model_simple(alpha=1.0,lr=0.001,beta_1=0.9, beta_2=0.999, epsilon=None, decay=0.0):\n",
    "    \"\"\"\n",
    "    Create model with given hyperparameters\n",
    "    \"\"\"\n",
    "    from keras.optimizers import Adam\n",
    "    model = Sequential()\n",
    "\n",
    "    #STACK SOME LAYERS\n",
    "    model.add(Conv2D(32, kernel_size=(3, 3),kernel_initializer=\"he_uniform\"))\n",
    "    model.add(ELU(alpha))\n",
    "    model.add(Conv2D(16, (3, 3),kernel_initializer=\"he_uniform\"))\n",
    "    model.add(ELU(alpha))\n",
    "    model.add(Conv2D(16, (3, 3),kernel_initializer=\"he_uniform\"))\n",
    "    model.add(ELU(alpha))\n",
    "    model.add(Conv2D(16, (3, 3),kernel_initializer=\"he_uniform\"))\n",
    "    model.add(ELU(alpha,name=\"prev\"))\n",
    "    model.add(Conv2D(32, (3, 3),kernel_initializer=\"he_uniform\"))\n",
    "    model.add(ELU(alpha,name=\"last\"))\n",
    "\n",
    "    #And activation\n",
    "    model.add(Flatten())\n",
    "    model.add(Dense(5,activation=\"softmax\"))\n",
    "    model.compile(Adam(lr,beta_1,beta_2,epsilon,decay),loss=\"categorical_crossentropy\",metrics=['accuracy'])\n",
    "    return model\n",
    "\n",
    "def create_model_batchnorm(alpha=1.0,lr=0.001,beta_1=0.9, beta_2=0.999, epsilon=None, decay=0.0):\n",
    "    from keras.optimizers import Adam\n",
    "    model = Sequential()\n",
    "    #STACK SOME LAYERS\n",
    "    model.add(Conv2D(32, kernel_size=(3, 3),kernel_initializer=\"he_uniform\"))\n",
    "    model.add(ELU(alpha))\n",
    "    model.add(BatchNormalization())\n",
    "    model.add(Conv2D(16, (3, 3),kernel_initializer=\"he_uniform\"))\n",
    "    model.add(ELU(alpha))\n",
    "    model.add(BatchNormalization())\n",
    "    model.add(Conv2D(16, (3, 3),kernel_initializer=\"he_uniform\"))\n",
    "    model.add(ELU(alpha))\n",
    "    model.add(BatchNormalization())\n",
    "    model.add(Conv2D(16, (3, 3),kernel_initializer=\"he_uniform\"))\n",
    "    model.add(ELU(alpha))\n",
    "    model.add(BatchNormalization())\n",
    "    model.add(Conv2D(32, (3, 3),kernel_initializer=\"he_uniform\"))\n",
    "    #And activation\n",
    "    model.add(Flatten())\n",
    "    model.add(Dense(5,activation=\"softmax\"))\n",
    "    model.compile(Adam(lr,beta_1,beta_2,epsilon,decay),loss=\"categorical_crossentropy\",metrics=['accuracy'])\n",
    "    return model\n",
    "\n",
    "def create_model_dropout_batchnorm(alpha=1.0,lr=0.001,beta_1=0.9, beta_2=0.999, epsilon=None, decay=0.0):\n",
    "    from keras.optimizers import Adam\n",
    "    model = Sequential()\n",
    "    #STACK SOME LAYERS\n",
    "    model.add(Conv2D(32, kernel_size=(3, 3),kernel_initializer=\"he_uniform\"))\n",
    "    model.add(ELU(alpha))\n",
    "    model.add(BatchNormalization())\n",
    "    model.add(Dropout(0.3))\n",
    "    model.add(Conv2D(16, (3, 3),kernel_initializer=\"he_uniform\"))\n",
    "    model.add(ELU(alpha))\n",
    "    model.add(BatchNormalization())\n",
    "    model.add(Dropout(0.3))\n",
    "    model.add(Conv2D(16, (3, 3),kernel_initializer=\"he_uniform\"))\n",
    "    model.add(ELU(alpha))\n",
    "    model.add(BatchNormalization())\n",
    "    model.add(Dropout(0.3))\n",
    "    model.add(Conv2D(16, (3, 3),kernel_initializer=\"he_uniform\"))\n",
    "    model.add(ELU(alpha))\n",
    "    model.add(BatchNormalization())\n",
    "    model.add(Dropout(0.3))\n",
    "    model.add(Conv2D(32, (3, 3),kernel_initializer=\"he_uniform\"))\n",
    "    #And activation\n",
    "    model.add(Flatten())\n",
    "    model.add(Dense(5,activation=\"softmax\"))\n",
    "    model.compile(Adam(lr,beta_1,beta_2,epsilon,decay),loss=\"categorical_crossentropy\",metrics=['accuracy'])\n",
    "    return model"
   ]
  },
  {
   "cell_type": "code",
   "execution_count": 38,
   "metadata": {},
   "outputs": [],
   "source": [
    "model = KerasClassifier(build_fn=create_model_simple, epochs=3, batch_size=64, verbose=0)"
   ]
  },
  {
   "cell_type": "code",
   "execution_count": 40,
   "metadata": {},
   "outputs": [],
   "source": [
    "lr = [0.001,0.1,0.01]\n",
    "decay = [0.001,0.01,0.1]\n",
    "alpha = [1,0.5,0.1]\n",
    "param_grid = dict(lr=lr,decay=decay,alpha=alpha)\n",
    "#param_grid = dict(lr=lr)\n",
    "#This takes LOOOOOOOONG time\n",
    "#Just use this {'alpha': 0.1, 'decay': 0.001, 'lr': 0.001}. It gets 0.997 on 3 epochs\n",
    "grid = GridSearchCV(estimator=model, param_grid=param_grid, n_jobs=1)\n",
    "grid_result = grid.fit(x_train, y_train)\n"
   ]
  },
  {
   "cell_type": "code",
   "execution_count": 221,
   "metadata": {},
   "outputs": [],
   "source": [
    "simple_model = create_model_simple(alpha=0.1,decay=0.001,lr=0.001)\n",
    "batch_norm_model = create_model_batchnorm(alpha=0.1,decay=0.001,lr=0.001)\n",
    "dropout_model = create_model_dropout_batchnorm(alpha=0.1,decay=0.001,lr=0.001)"
   ]
  },
  {
   "cell_type": "code",
   "execution_count": 69,
   "metadata": {},
   "outputs": [
    {
     "name": "stdout",
     "output_type": "stream",
     "text": [
      "11765/11765 [==============================] - 6s 489us/step\n"
     ]
    },
    {
     "data": {
      "text/plain": [
       "[0.000951223672341831, 0.99983000425496]"
      ]
     },
     "execution_count": 69,
     "metadata": {},
     "output_type": "execute_result"
    }
   ],
   "source": [
    "grid_result.best_estimator_.model.evaluate(x_train,y_train)"
   ]
  },
  {
   "cell_type": "code",
   "execution_count": 222,
   "metadata": {},
   "outputs": [
    {
     "name": "stdout",
     "output_type": "stream",
     "text": [
      "Train on 23455 samples, validate on 3852 samples\n",
      "Epoch 1/3\n",
      "23455/23455 [==============================] - 33s 1ms/step - loss: 0.0717 - acc: 0.9757 - val_loss: 0.0218 - val_acc: 0.9938\n",
      "Epoch 2/3\n",
      "23455/23455 [==============================] - 12s 520us/step - loss: 0.0187 - acc: 0.9940 - val_loss: 0.0158 - val_acc: 0.9948\n",
      "Epoch 3/3\n",
      "23455/23455 [==============================] - 12s 519us/step - loss: 0.0098 - acc: 0.9967 - val_loss: 0.0179 - val_acc: 0.9948\n"
     ]
    },
    {
     "data": {
      "image/png": "[encoded data removed]",
      "text/plain": [
       "<Figure size 432x288 with 1 Axes>"
      ]
     },
     "metadata": {
      "needs_background": "light"
     },
     "output_type": "display_data"
    },
    {
     "data": {
      "image/png": "[encoded data removed]",
      "text/plain": [
       "<Figure size 432x288 with 1 Axes>"
      ]
     },
     "metadata": {
      "needs_background": "light"
     },
     "output_type": "display_data"
    }
   ],
   "source": [
    "simple = simple_model.fit(x_train,y_train,validation_data=(x_test,y_test),epochs=3, batch_size=64)\n",
    "plot_history(simple)"
   ]
  },
  {
   "cell_type": "code",
   "execution_count": 91,
   "metadata": {},
   "outputs": [
    {
     "name": "stdout",
     "output_type": "stream",
     "text": [
      "Train on 11765 samples, validate on 1962 samples\n",
      "Epoch 1/3\n",
      "11765/11765 [==============================] - 27s 2ms/step - loss: 0.0520 - acc: 0.9891 - val_loss: 0.0145 - val_acc: 0.9969\n",
      "Epoch 2/3\n",
      "11765/11765 [==============================] - 7s 605us/step - loss: 0.0171 - acc: 0.9963 - val_loss: 0.0022 - val_acc: 0.9990\n",
      "Epoch 3/3\n",
      "11765/11765 [==============================] - 7s 603us/step - loss: 0.0050 - acc: 0.9994 - val_loss: 4.1762e-04 - val_acc: 0.9995\n"
     ]
    },
    {
     "data": {
      "image/png": "[encoded data removed]",
      "text/plain": [
       "<Figure size 432x288 with 1 Axes>"
      ]
     },
     "metadata": {
      "needs_background": "light"
     },
     "output_type": "display_data"
    },
    {
     "data": {
      "image/png": "[encoded data removed]",
      "text/plain": [
       "<Figure size 432x288 with 1 Axes>"
      ]
     },
     "metadata": {
      "needs_background": "light"
     },
     "output_type": "display_data"
    }
   ],
   "source": [
    "history= batch_norm_model.fit(x_train,y_train,validation_data=(x_test,y_test),epochs=3, batch_size=64)\n",
    "plot_history(history)"
   ]
  },
  {
   "cell_type": "code",
   "execution_count": 95,
   "metadata": {},
   "outputs": [
    {
     "name": "stdout",
     "output_type": "stream",
     "text": [
      "Train on 11765 samples, validate on 1962 samples\n",
      "Epoch 1/3\n",
      "11765/11765 [==============================] - 27s 2ms/step - loss: 0.0719 - acc: 0.9844 - val_loss: 0.0086 - val_acc: 0.9975\n",
      "Epoch 2/3\n",
      "11765/11765 [==============================] - 7s 629us/step - loss: 0.0326 - acc: 0.9949 - val_loss: 0.0046 - val_acc: 0.9995\n",
      "Epoch 3/3\n",
      "11765/11765 [==============================] - 7s 632us/step - loss: 0.0319 - acc: 0.9949 - val_loss: 0.0071 - val_acc: 0.9969\n"
     ]
    },
    {
     "data": {
      "image/png": "[encoded data removed]",
      "text/plain": [
       "<Figure size 432x288 with 1 Axes>"
      ]
     },
     "metadata": {
      "needs_background": "light"
     },
     "output_type": "display_data"
    },
    {
     "data": {
      "image/png": "[encoded data removed]",
      "text/plain": [
       "<Figure size 432x288 with 1 Axes>"
      ]
     },
     "metadata": {
      "needs_background": "light"
     },
     "output_type": "display_data"
    }
   ],
   "source": [
    "history= dropout_model.fit(x_train,y_train,validation_data=(x_test,y_test),epochs=3, batch_size=64)\n",
    "plot_history(history)"
   ]
  },
  {
   "cell_type": "markdown",
   "metadata": {},
   "source": [
    "**Wild transfer learning part**"
   ]
  },
  {
   "cell_type": "markdown",
   "metadata": {},
   "source": [
    "Data (re)loading"
   ]
  },
  {
   "cell_type": "code",
   "execution_count": 170,
   "metadata": {},
   "outputs": [],
   "source": [
    "x_train,y_train = train\n",
    "x_test,y_test = test\n",
    "\n",
    "train_mask = np.isin(y_train, range(5,9))\n",
    "test_mask = np.isin(y_test, range(5,9))\n",
    "\n",
    "x_train = x_train[train_mask]\n",
    "x_test = x_test[test_mask]\n",
    "y_test = y_test[test_mask]\n",
    "y_train = y_train[train_mask]\n",
    "\n",
    "y_train = y_train-5\n",
    "y_test = y_test-5\n",
    "\n",
    "y_train = to_categorical(y_train,num_classes=5)\n",
    "x_train = x_train.reshape(-1,1,28,28)\n",
    "y_test = to_categorical(y_test,num_classes=5)\n",
    "x_test = x_test.reshape(-1,1,28,28)\n",
    "\n",
    "x_train = x_train.astype('float32')\n",
    "x_test = x_test.astype('float32')\n",
    "x_train /= 255\n",
    "x_test /= 255"
   ]
  },
  {
   "cell_type": "code",
   "execution_count": 171,
   "metadata": {},
   "outputs": [],
   "source": [
    "def get_transfer_model(simple_model,alpha=1.0,lr=0.001,beta_1=0.9, beta_2=0.999, epsilon=None, decay=0.0):\n",
    "    \"\"\"\n",
    "    Generates new model, by freezing intermediate layers\n",
    "    \"\"\"\n",
    "    from keras.optimizers import Adam\n",
    "    for layer in simple_model.layers:\n",
    "        layer.trainable = False\n",
    "    intermediate_layer_model = Model(inputs=simple_model.input,\n",
    "                                     outputs=simple_model.get_layer(\"last\").output)\n",
    "    new_model = Sequential()\n",
    "    new_model.add(intermediate_layer_model)\n",
    "    new_model.add(Flatten())\n",
    "    new_model.add(Dense(5,activation=\"softmax\",kernel_initializer=\"he_uniform\"))\n",
    "    new_model.compile(Adam(lr,beta_1,beta_2,epsilon,decay),loss=\"categorical_crossentropy\",metrics=['accuracy'])\n",
    "    \n",
    "    return new_model"
   ]
  },
  {
   "cell_type": "code",
   "execution_count": 190,
   "metadata": {},
   "outputs": [],
   "source": [
    "def eval_transfer_model():\n",
    "    new_model = get_transfer_model(simple_model)\n",
    "    new_model.fit(x_train,y_train,validation_data=(x_test,y_test),epochs=3)"
   ]
  },
  {
   "cell_type": "code",
   "execution_count": 207,
   "metadata": {},
   "outputs": [
    {
     "name": "stdout",
     "output_type": "stream",
     "text": [
      "Train on 23455 samples, validate on 3852 samples\n",
      "Epoch 1/3\n",
      "23455/23455 [==============================] - 38s 2ms/step - loss: 0.0737 - acc: 0.9764 - val_loss: 0.0540 - val_acc: 0.9868\n",
      "Epoch 2/3\n",
      "23455/23455 [==============================] - 18s 777us/step - loss: 0.0376 - acc: 0.9899 - val_loss: 0.0278 - val_acc: 0.9930\n",
      "Epoch 3/3\n",
      "23455/23455 [==============================] - 18s 774us/step - loss: 0.0232 - acc: 0.9937 - val_loss: 0.0536 - val_acc: 0.9881\n",
      "Train on 23455 samples, validate on 3852 samples\n",
      "Epoch 1/3\n",
      "23455/23455 [==============================] - 38s 2ms/step - loss: 0.0679 - acc: 0.9780 - val_loss: 0.0360 - val_acc: 0.9904\n",
      "Epoch 2/3\n",
      "23455/23455 [==============================] - 18s 774us/step - loss: 0.0307 - acc: 0.9905 - val_loss: 0.0450 - val_acc: 0.9891\n",
      "Epoch 3/3\n",
      "23455/23455 [==============================] - 18s 779us/step - loss: 0.0250 - acc: 0.9927 - val_loss: 0.0399 - val_acc: 0.9907\n",
      "Train on 23455 samples, validate on 3852 samples\n",
      "Epoch 1/3\n",
      "23455/23455 [==============================] - 38s 2ms/step - loss: 0.0704 - acc: 0.9766 - val_loss: 0.0389 - val_acc: 0.9868\n",
      "Epoch 2/3\n",
      "23455/23455 [==============================] - 18s 777us/step - loss: 0.0356 - acc: 0.9899 - val_loss: 0.0527 - val_acc: 0.9862\n",
      "Epoch 3/3\n",
      "23455/23455 [==============================] - 18s 777us/step - loss: 0.0284 - acc: 0.9919 - val_loss: 0.0524 - val_acc: 0.9875\n",
      "1min 14s ± 56.3 ms per loop (mean ± std. dev. of 3 runs, 1 loop each)\n"
     ]
    }
   ],
   "source": [
    "%%timeit -n1 -r3\n",
    "eval_transfer_model()"
   ]
  },
  {
   "cell_type": "code",
   "execution_count": null,
   "metadata": {},
   "outputs": [],
   "source": [
    "print(\"Took:\"+str(end-start))"
   ]
  },
  {
   "cell_type": "markdown",
   "metadata": {},
   "source": [
    "Now let's cash layer data"
   ]
  },
  {
   "cell_type": "code",
   "execution_count": 224,
   "metadata": {},
   "outputs": [],
   "source": [
    "def train_cached_model(simple_model,alpha=1.0,lr=0.001,beta_1=0.9, beta_2=0.999, epsilon=None, decay=0.0,last=\"last\",unfreeze=False):\n",
    "    \"\"\"\n",
    "    Generates new model, by freezing intermediate layers\n",
    "    \"\"\"\n",
    "    from keras.optimizers import Adam\n",
    "    if unfreeze:\n",
    "        for layer in simple_model.layers:\n",
    "            layer.trainable = False\n",
    "    else:\n",
    "         for layer in simple_model.layers[:2]:\n",
    "            layer.trainable = False\n",
    "\n",
    "    intermediate_layer_model = Model(inputs=simple_model.input,\n",
    "                                     outputs=simple_model.get_layer(last).output)\n",
    "    x_ = intermediate_layer_model.predict(x_train)\n",
    "    new_model = Sequential()\n",
    "    new_model.add(Flatten())\n",
    "    new_model.add(Dense(5,activation=\"softmax\",kernel_initializer=\"he_uniform\"))\n",
    "    new_model.compile(Adam(lr,beta_1,beta_2,epsilon,decay),loss=\"categorical_crossentropy\",metrics=['accuracy'])\n",
    "    history = new_model.fit(x_train,y_train,validation_data=(x_test,y_test),epochs=3)\n",
    "    "
   ]
  },
  {
   "cell_type": "code",
   "execution_count": 223,
   "metadata": {},
   "outputs": [
    {
     "name": "stdout",
     "output_type": "stream",
     "text": [
      "Train on 23455 samples, validate on 3852 samples\n",
      "Epoch 1/3\n",
      "23455/23455 [==============================] - 37s 2ms/step - loss: 0.2909 - acc: 0.9235 - val_loss: 0.1723 - val_acc: 0.9499\n",
      "Epoch 2/3\n",
      "23455/23455 [==============================] - 16s 694us/step - loss: 0.1489 - acc: 0.9557 - val_loss: 0.1479 - val_acc: 0.9535\n",
      "Epoch 3/3\n",
      "23455/23455 [==============================] - 16s 700us/step - loss: 0.1297 - acc: 0.9598 - val_loss: 0.1351 - val_acc: 0.9582\n"
     ]
    }
   ],
   "source": [
    "train_cached_model(simple_model,last=\"last\")"
   ]
  },
  {
   "cell_type": "code",
   "execution_count": null,
   "metadata": {},
   "outputs": [],
   "source": [
    "train_cached_model(simple_model,last=\"prev\")"
   ]
  },
  {
   "cell_type": "code",
   "execution_count": 225,
   "metadata": {},
   "outputs": [
    {
     "name": "stdout",
     "output_type": "stream",
     "text": [
      "Train on 23455 samples, validate on 3852 samples\n",
      "Epoch 1/3\n",
      "23455/23455 [==============================] - 37s 2ms/step - loss: 0.2976 - acc: 0.9193 - val_loss: 0.1764 - val_acc: 0.9468\n",
      "Epoch 2/3\n",
      "23455/23455 [==============================] - 16s 700us/step - loss: 0.1490 - acc: 0.9548 - val_loss: 0.1474 - val_acc: 0.9540\n",
      "Epoch 3/3\n",
      "23455/23455 [==============================] - 16s 702us/step - loss: 0.1293 - acc: 0.9601 - val_loss: 0.1361 - val_acc: 0.9577\n"
     ]
    }
   ],
   "source": [
    "train_cached_model(simple_model,last=\"prev\",unfreeze=True)"
   ]
  },
  {
   "cell_type": "code",
   "execution_count": null,
   "metadata": {},
   "outputs": [],
   "source": []
  }
 ],
 "metadata": {
  "kernelspec": {
   "display_name": "Python with new tf",
   "language": "python",
   "name": "tf"
  },
  "language_info": {
   "codemirror_mode": {
    "name": "ipython",
    "version": 3
   },
   "file_extension": ".py",
   "mimetype": "text/x-python",
   "name": "python",
   "nbconvert_exporter": "python",
   "pygments_lexer": "ipython3",
   "version": "3.6.8"
  }
 },
 "nbformat": 4,
 "nbformat_minor": 2
}
